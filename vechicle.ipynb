{
 "cells": [
  {
   "cell_type": "code",
   "execution_count": null,
   "id": "181f6dba-6be1-4d12-80b3-2f9ad7cd9d9a",
   "metadata": {},
   "outputs": [
    {
     "name": "stdout",
     "output_type": "stream",
     "text": [
      "3\n",
      "3\n",
      "3\n",
      "3\n"
     ]
    }
   ],
   "source": [
    "# class Vehicletype:\n",
    "#     pass\n",
    "\n",
    "class vehicle():\n",
    "    def __init__(self):\n",
    "        self.year = input(\"What year is the car? \")\n",
    "        self.make = input(\"What make is the car?\")\n",
    "        self.doors = input(\"how many doors does the car have? \")\n",
    "        self.roof = input(\"What type of roof does the car have?\")\n",
    "    \n",
    "car = vehicle()\n",
    "print(\"Year: \" + car.year)\n",
    "print(\"Make: \" + car.make)\n",
    "print(\"Doors:\" + car.doors)\n",
    "print(\"Roof: \" + car.roof)"
   ]
  }
 ],
 "metadata": {
  "kernelspec": {
   "display_name": "Python 3",
   "language": "python",
   "name": "python3"
  },
  "language_info": {
   "codemirror_mode": {
    "name": "ipython",
    "version": 3
   },
   "file_extension": ".py",
   "mimetype": "text/x-python",
   "name": "python",
   "nbconvert_exporter": "python",
   "pygments_lexer": "ipython3",
   "version": "3.11.9"
  }
 },
 "nbformat": 4,
 "nbformat_minor": 5
}
