{
 "cells": [
  {
   "cell_type": "code",
   "execution_count": 1,
   "id": "181f6dba-6be1-4d12-80b3-2f9ad7cd9d9a",
   "metadata": {},
   "outputs": [
    {
     "name": "stdout",
     "output_type": "stream",
     "text": [
      "2022\n",
      "Toyota\n"
     ]
    }
   ],
   "source": [
    "class Vehicletype:\n",
    "    pass\n",
    "\n",
    "\n",
    "class vehicle(Vehicletype):\n",
    "    def __init__(self, year, make, doors, roof):\n",
    "        self.year = year\n",
    "        self.make = make\n",
    "        self.doors = doors\n",
    "        self.roof = roof\n",
    "    \n",
    "car = vehicle(2022, \"Toyota\", 4, \"Sunroof\")\n",
    "print(car.year)\n",
    "print(car.make)"
   ]
  }
 ],
 "metadata": {
  "kernelspec": {
   "display_name": "Python 3",
   "language": "python",
   "name": "python3"
  },
  "language_info": {
   "codemirror_mode": {
    "name": "ipython",
    "version": 3
   },
   "file_extension": ".py",
   "mimetype": "text/x-python",
   "name": "python",
   "nbconvert_exporter": "python",
   "pygments_lexer": "ipython3",
   "version": "3.11.9"
  }
 },
 "nbformat": 4,
 "nbformat_minor": 5
}
